{
 "cells": [
  {
   "cell_type": "code",
   "execution_count": 1,
   "metadata": {},
   "outputs": [],
   "source": [
    "import os\n",
    "import cv2\n",
    "from PIL import Image\n",
    "import numpy as np\n",
    "import pickle"
   ]
  },
  {
   "cell_type": "code",
   "execution_count": 2,
   "metadata": {},
   "outputs": [],
   "source": [
    "BASE_DIR=os.path.dirname(os.path.abspath( '__file__' ))\n",
    "image_dir=os.path.join(BASE_DIR,\"images\")"
   ]
  },
  {
   "cell_type": "code",
   "execution_count": 3,
   "metadata": {},
   "outputs": [],
   "source": [
    "face_cascade=cv2.CascadeClassifier('cascades/data/haarcascade_frontalface_alt2.xml')\n",
    "recognizer=cv2.face.LBPHFaceRecognizer_create()"
   ]
  },
  {
   "cell_type": "code",
   "execution_count": 4,
   "metadata": {},
   "outputs": [],
   "source": [
    "current_id=0\n",
    "label_ids={}\n",
    "y_labels=[]\n",
    "x_train=[]"
   ]
  },
  {
   "cell_type": "code",
   "execution_count": 5,
   "metadata": {
    "scrolled": false
   },
   "outputs": [],
   "source": [
    "for root,dirs,files in os.walk(image_dir):\n",
    "    for file in files:\n",
    "        if file.endswith(\"jpeg\") or file.endswith(\"jpg\") :\n",
    "            path=os.path.join(root,file)\n",
    "            label=os.path.basename(root).replace(\" \",\"-\").lower()\n",
    "            #print(label,path)\n",
    "            if not label in label_ids:\n",
    "                label_ids[label]=current_id\n",
    "                current_id+=1\n",
    "            id_=label_ids[label]\n",
    "            #print(label_ids)    \n",
    "            pil_image=Image.open(path).convert(\"L\")\n",
    "            size=(550,550)\n",
    "            final_image=pil_image.resize(size,Image.ANTIALIAS)\n",
    "            \n",
    "            image_array=np.array(final_image,\"uint8\")\n",
    "            #print(image_array)\n",
    "            faces=face_cascade.detectMultiScale(image_array,scaleFactor=1.5,minNeighbors=5)\n",
    "            \n",
    "            for(x,y,w,h) in faces:\n",
    "                roi=image_array[y:y+h,x:x+w]\n",
    "                x_train.append(roi)\n",
    "                y_labels.append(id_) \n",
    "#print(y_labels)\n",
    "#print(x_train)"
   ]
  },
  {
   "cell_type": "code",
   "execution_count": 6,
   "metadata": {},
   "outputs": [],
   "source": [
    "with open(\"labels.pickle\",'wb') as f:\n",
    "    pickle.dump(label_ids,f)"
   ]
  },
  {
   "cell_type": "code",
   "execution_count": 7,
   "metadata": {},
   "outputs": [],
   "source": [
    "recognizer.train(x_train,np.array(y_labels))\n",
    "recognizer.save(\"trainner.yml\")"
   ]
  },
  {
   "cell_type": "code",
   "execution_count": null,
   "metadata": {},
   "outputs": [],
   "source": []
  },
  {
   "cell_type": "code",
   "execution_count": null,
   "metadata": {},
   "outputs": [],
   "source": []
  },
  {
   "cell_type": "code",
   "execution_count": null,
   "metadata": {},
   "outputs": [],
   "source": []
  }
 ],
 "metadata": {
  "kernelspec": {
   "display_name": "Python 2",
   "language": "python",
   "name": "python2"
  },
  "language_info": {
   "codemirror_mode": {
    "name": "ipython",
    "version": 2
   },
   "file_extension": ".py",
   "mimetype": "text/x-python",
   "name": "python",
   "nbconvert_exporter": "python",
   "pygments_lexer": "ipython2",
   "version": "2.7.16"
  }
 },
 "nbformat": 4,
 "nbformat_minor": 2
}
